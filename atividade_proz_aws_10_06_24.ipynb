{
  "nbformat": 4,
  "nbformat_minor": 0,
  "metadata": {
    "colab": {
      "provenance": [],
      "authorship_tag": "ABX9TyPuEDB55lwWLEkazfIZjZEz",
      "include_colab_link": true
    },
    "kernelspec": {
      "name": "python3",
      "display_name": "Python 3"
    },
    "language_info": {
      "name": "python"
    }
  },
  "cells": [
    {
      "cell_type": "markdown",
      "metadata": {
        "id": "view-in-github",
        "colab_type": "text"
      },
      "source": [
        "<a href=\"https://colab.research.google.com/github/lmbernardo7520112/atividade-proz-git/blob/main/atividade_proz_aws_10_06_24.ipynb\" target=\"_parent\"><img src=\"https://colab.research.google.com/assets/colab-badge.svg\" alt=\"Open In Colab\"/></a>"
      ]
    },
    {
      "cell_type": "code",
      "execution_count": 1,
      "metadata": {
        "colab": {
          "base_uri": "https://localhost:8080/"
        },
        "id": "n1ijso2Z5AvS",
        "outputId": "4f89c59e-fa05-4cf3-a775-bac518a52e27"
      },
      "outputs": [
        {
          "output_type": "stream",
          "name": "stdout",
          "text": [
            "Digite seu nome completo: Pedro scuby\n",
            "Digite o ano de nascimento (entre 1922 e 2021): 2009\n",
            "Pedro scuby, você completou ou completará 13 anos em 2022.\n"
          ]
        }
      ],
      "source": [
        "def get_user_info():\n",
        "    while True:\n",
        "        try:\n",
        "            name = input(\"Digite seu nome completo: \").strip()\n",
        "            birth_year = int(input(\"Digite o ano de nascimento (entre 1922 e 2021): \"))\n",
        "\n",
        "            if 1922 <= birth_year <= 2021:\n",
        "                return name, birth_year\n",
        "            else:\n",
        "                print(\"Ano de nascimento inválido. Por favor, tente novamente.\")\n",
        "        except ValueError:\n",
        "            print(\"Entrada inválida. Por favor, insira um número para o ano de nascimento.\")\n",
        "\n",
        "def calculate_age(birth_year, current_year=2022):\n",
        "    return current_year - birth_year\n",
        "\n",
        "def main():\n",
        "    name, birth_year = get_user_info()\n",
        "    age = calculate_age(birth_year)\n",
        "    print(f\"{name}, você completou ou completará {age} anos em 2022.\")\n",
        "\n",
        "if __name__ == \"__main__\":\n",
        "    main()\n"
      ]
    }
  ]
}